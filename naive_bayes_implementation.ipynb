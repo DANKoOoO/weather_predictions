{
 "cells": [
  {
   "cell_type": "code",
   "execution_count": 1,
   "id": "e5e00bef",
   "metadata": {},
   "outputs": [],
   "source": [
    "import pandas as pd\n",
    "from math import sqrt\n",
    "from math import pi\n",
    "from math import exp"
   ]
  },
  {
   "cell_type": "code",
   "execution_count": 2,
   "id": "fab53684",
   "metadata": {},
   "outputs": [],
   "source": [
    "naive_bayes_db = pd.read_csv('df_with_transformed_time.csv', index_col=False)"
   ]
  },
  {
   "cell_type": "code",
   "execution_count": 3,
   "id": "95a675b0",
   "metadata": {},
   "outputs": [],
   "source": [
    "def separate_by_color(dataframe):\n",
    "    dict_od_separated_dataframes = dict()\n",
    "    for i in dataframe['landing_safety'].unique():\n",
    "        df_separated = dataframe.loc[dataframe['landing_safety'] == i]\n",
    "        dict_od_separated_dataframes[i] = df_separated\n",
    "    return dict_od_separated_dataframes"
   ]
  },
  {
   "cell_type": "code",
   "execution_count": 4,
   "id": "d5d62dbf",
   "metadata": {},
   "outputs": [],
   "source": [
    "def summarize_dataframe(dataframe):\n",
    "    summaries = [dataframe.loc[:, dataframe.columns != 'landing_safety'].mean(), dataframe.loc[:, dataframe.columns != 'landing_safety'].std(),len(dataframe.loc[:, dataframe.columns != 'landing_safety'])]\n",
    "    return summaries"
   ]
  },
  {
   "cell_type": "code",
   "execution_count": 5,
   "id": "450e261e",
   "metadata": {},
   "outputs": [],
   "source": [
    "def summarize_by_class(dataframe):\n",
    "    separated = separate_by_color(dataframe)\n",
    "    summaries = dict()\n",
    "    for class_value, rows in separated.items():\n",
    "        summaries[class_value] = summarize_dataframe(rows)\n",
    "    return summaries"
   ]
  },
  {
   "cell_type": "code",
   "execution_count": 6,
   "id": "1c3aec3b",
   "metadata": {},
   "outputs": [],
   "source": [
    "def calculate_probability(x, mean, stdev):\n",
    "    exponent = exp(-((x-mean)**2 / (2 * stdev**2 )))\n",
    "    return (1 / (sqrt(2 * pi) * stdev)) * exponent"
   ]
  },
  {
   "cell_type": "code",
   "execution_count": 7,
   "id": "f0d44d5f",
   "metadata": {},
   "outputs": [],
   "source": [
    "def calculate_class_probabilities(summaries, row):\n",
    "    total_rows = len(test)\n",
    "    probabilities = dict()\n",
    "    for class_value, class_summaries in summaries.items():\n",
    "        probabilities[class_value] = summaries[class_value][-1]/float(total_rows)\n",
    "        for i in range(len(class_summaries[0])):\n",
    "            mean = class_summaries[0][i]\n",
    "            stdev = class_summaries[1][i]\n",
    "            probabilities[class_value] *= calculate_probability(row[i], mean, stdev)\n",
    "    return probabilities"
   ]
  },
  {
   "cell_type": "code",
   "execution_count": 8,
   "id": "d6b2617b",
   "metadata": {},
   "outputs": [],
   "source": [
    "def predict(summaries, row):\n",
    "    probabilities = calculate_class_probabilities(summaries, row)\n",
    "    best_label, best_prob = None, -1\n",
    "    for class_value, probability in probabilities.items():\n",
    "        if best_label is None or probability > best_prob:\n",
    "            best_prob = probability\n",
    "            best_label = class_value\n",
    "    return best_label"
   ]
  },
  {
   "cell_type": "code",
   "execution_count": 9,
   "id": "4e928463",
   "metadata": {},
   "outputs": [],
   "source": [
    "def naive_bayes(train, test):\n",
    "    summarize = summarize_by_class(train)\n",
    "    predictions = list()\n",
    "    for index, row in test.iterrows():\n",
    "        output = predict(summarize, row[1:11].tolist())\n",
    "        predictions.append(output)\n",
    "    return(predictions)"
   ]
  },
  {
   "cell_type": "code",
   "execution_count": 10,
   "id": "dc3fa5f5",
   "metadata": {},
   "outputs": [],
   "source": [
    "from sklearn.model_selection import train_test_split\n",
    "\n",
    "train, test = train_test_split(naive_bayes_db.sample(500), test_size=0.3, random_state=1)"
   ]
  },
  {
   "cell_type": "code",
   "execution_count": 11,
   "id": "4fa45565",
   "metadata": {},
   "outputs": [],
   "source": [
    "predicted_values = naive_bayes(train, test)"
   ]
  },
  {
   "cell_type": "code",
   "execution_count": 12,
   "id": "fe057ef8",
   "metadata": {},
   "outputs": [],
   "source": [
    "d = list()\n",
    "for a in range(len(test['landing_safety'])-1):\n",
    "    d.append((test['landing_safety'].values[a],predicted_values[a]))"
   ]
  },
  {
   "cell_type": "code",
   "execution_count": 13,
   "id": "4889062f",
   "metadata": {},
   "outputs": [
    {
     "name": "stdout",
     "output_type": "stream",
     "text": [
      "('green', 'green')\n",
      "('green', 'green')\n",
      "('green', 'green')\n",
      "('green', 'green')\n",
      "('red', 'green')\n",
      "('red', 'green')\n",
      "('green', 'green')\n",
      "('green', 'green')\n",
      "('red', 'red')\n",
      "('green', 'green')\n",
      "('green', 'green')\n",
      "('red', 'green')\n",
      "('red', 'green')\n",
      "('yellow', 'green')\n",
      "('green', 'green')\n",
      "('red', 'green')\n",
      "('green', 'green')\n",
      "('green', 'green')\n",
      "('green', 'green')\n",
      "('green', 'green')\n",
      "('yellow', 'green')\n",
      "('green', 'green')\n",
      "('green', 'green')\n",
      "('green', 'green')\n",
      "('red', 'red')\n",
      "('yellow', 'green')\n",
      "('green', 'green')\n",
      "('red', 'green')\n",
      "('green', 'green')\n",
      "('red', 'green')\n",
      "('red', 'green')\n",
      "('red', 'red')\n",
      "('red', 'green')\n",
      "('green', 'green')\n",
      "('green', 'green')\n",
      "('green', 'green')\n",
      "('red', 'green')\n",
      "('green', 'green')\n",
      "('red', 'green')\n",
      "('green', 'yellow')\n",
      "('green', 'green')\n",
      "('green', 'green')\n",
      "('red', 'green')\n",
      "('green', 'green')\n",
      "('red', 'green')\n",
      "('green', 'red')\n",
      "('green', 'green')\n",
      "('green', 'green')\n",
      "('green', 'green')\n",
      "('green', 'green')\n",
      "('green', 'green')\n",
      "('green', 'green')\n",
      "('green', 'green')\n",
      "('yellow', 'green')\n",
      "('green', 'green')\n",
      "('yellow', 'green')\n",
      "('green', 'green')\n",
      "('yellow', 'green')\n",
      "('green', 'green')\n",
      "('green', 'green')\n",
      "('green', 'green')\n",
      "('yellow', 'green')\n",
      "('green', 'green')\n",
      "('yellow', 'green')\n",
      "('green', 'green')\n",
      "('red', 'green')\n",
      "('green', 'green')\n",
      "('green', 'green')\n",
      "('green', 'green')\n",
      "('green', 'green')\n",
      "('green', 'green')\n",
      "('red', 'green')\n",
      "('green', 'green')\n",
      "('green', 'green')\n",
      "('green', 'green')\n",
      "('green', 'green')\n",
      "('green', 'green')\n",
      "('yellow', 'green')\n",
      "('red', 'green')\n",
      "('green', 'green')\n",
      "('green', 'green')\n",
      "('red', 'green')\n",
      "('yellow', 'green')\n",
      "('green', 'green')\n",
      "('green', 'green')\n",
      "('green', 'green')\n",
      "('green', 'green')\n",
      "('green', 'green')\n",
      "('green', 'green')\n",
      "('red', 'green')\n",
      "('yellow', 'red')\n",
      "('red', 'green')\n",
      "('green', 'green')\n",
      "('red', 'green')\n",
      "('yellow', 'green')\n",
      "('green', 'green')\n",
      "('green', 'green')\n",
      "('green', 'green')\n",
      "('green', 'green')\n",
      "('green', 'green')\n",
      "('green', 'green')\n",
      "('green', 'green')\n",
      "('red', 'green')\n",
      "('red', 'green')\n",
      "('yellow', 'green')\n",
      "('yellow', 'green')\n",
      "('green', 'green')\n",
      "('green', 'green')\n",
      "('green', 'green')\n",
      "('red', 'green')\n",
      "('red', 'green')\n",
      "('green', 'green')\n",
      "('green', 'green')\n",
      "('green', 'green')\n",
      "('green', 'green')\n",
      "('green', 'green')\n",
      "('red', 'green')\n",
      "('green', 'green')\n",
      "('green', 'green')\n",
      "('green', 'green')\n",
      "('green', 'green')\n",
      "('red', 'green')\n",
      "('green', 'green')\n",
      "('green', 'green')\n",
      "('green', 'green')\n",
      "('green', 'green')\n",
      "('red', 'green')\n",
      "('yellow', 'green')\n",
      "('green', 'green')\n",
      "('green', 'green')\n",
      "('red', 'green')\n",
      "('green', 'green')\n",
      "('green', 'green')\n",
      "('yellow', 'green')\n",
      "('green', 'green')\n",
      "('green', 'green')\n",
      "('green', 'green')\n",
      "('green', 'green')\n",
      "('green', 'green')\n",
      "('green', 'green')\n",
      "('green', 'green')\n",
      "('green', 'green')\n",
      "('red', 'green')\n",
      "('green', 'green')\n",
      "('green', 'green')\n",
      "('green', 'green')\n",
      "('green', 'green')\n",
      "('green', 'green')\n",
      "('green', 'green')\n"
     ]
    }
   ],
   "source": [
    "for a in d:\n",
    "    print(a)"
   ]
  },
  {
   "cell_type": "code",
   "execution_count": 14,
   "id": "0070e699",
   "metadata": {},
   "outputs": [],
   "source": [
    "from sklearn import metrics"
   ]
  },
  {
   "cell_type": "code",
   "execution_count": 15,
   "id": "ea988be1",
   "metadata": {},
   "outputs": [
    {
     "name": "stdout",
     "output_type": "stream",
     "text": [
      "              precision    recall  f1-score   support\n",
      "\n",
      "       green       0.69      0.98      0.81       102\n",
      "         red       0.60      0.09      0.16        32\n",
      "      yellow       0.00      0.00      0.00        16\n",
      "\n",
      "    accuracy                           0.69       150\n",
      "   macro avg       0.43      0.36      0.33       150\n",
      "weighted avg       0.60      0.69      0.59       150\n",
      "\n"
     ]
    }
   ],
   "source": [
    "print(metrics.classification_report(test['landing_safety'].values, predicted_values))"
   ]
  }
 ],
 "metadata": {
  "kernelspec": {
   "display_name": "Python 3 (ipykernel)",
   "language": "python",
   "name": "python3"
  },
  "language_info": {
   "codemirror_mode": {
    "name": "ipython",
    "version": 3
   },
   "file_extension": ".py",
   "mimetype": "text/x-python",
   "name": "python",
   "nbconvert_exporter": "python",
   "pygments_lexer": "ipython3",
   "version": "3.9.7"
  }
 },
 "nbformat": 4,
 "nbformat_minor": 5
}
