{
 "cells": [
  {
   "cell_type": "code",
   "execution_count": 1,
   "id": "e2ac59dc",
   "metadata": {},
   "outputs": [],
   "source": [
    "import pandas as pd\n",
    "from sklearn import metrics\n",
    "from sklearn.naive_bayes import GaussianNB\n",
    "from sklearn.model_selection import train_test_split"
   ]
  },
  {
   "cell_type": "code",
   "execution_count": 2,
   "id": "6ea32e1e",
   "metadata": {},
   "outputs": [],
   "source": [
    "naive_bayes_db = pd.read_csv('df_with_transformed_time.csv', index_col=False)"
   ]
  },
  {
   "cell_type": "markdown",
   "id": "ab58b1f1",
   "metadata": {},
   "source": [
    "Kreiramo pocetni model sa svim atributima"
   ]
  },
  {
   "cell_type": "code",
   "execution_count": 3,
   "id": "160d43b0",
   "metadata": {},
   "outputs": [],
   "source": [
    "X = naive_bayes_db.values[:, [1,2,3,4,5,6,7,8,9,10]]\n",
    "Y = naive_bayes_db.values[:, 0]"
   ]
  },
  {
   "cell_type": "code",
   "execution_count": 4,
   "id": "beb98786",
   "metadata": {},
   "outputs": [],
   "source": [
    "X_train, X_test, y_train, y_test = train_test_split(X, Y, random_state = 1)"
   ]
  },
  {
   "cell_type": "code",
   "execution_count": 5,
   "id": "eae08f08",
   "metadata": {},
   "outputs": [],
   "source": [
    "clf = GaussianNB().fit(X_train, y_train)"
   ]
  },
  {
   "cell_type": "code",
   "execution_count": 6,
   "id": "b95929bf",
   "metadata": {},
   "outputs": [],
   "source": [
    "predictions = clf.predict(X_test)"
   ]
  },
  {
   "cell_type": "code",
   "execution_count": 7,
   "id": "15a29161",
   "metadata": {},
   "outputs": [
    {
     "name": "stderr",
     "output_type": "stream",
     "text": [
      "C:\\Users\\danko\\anaconda3\\lib\\site-packages\\sklearn\\metrics\\_classification.py:1248: UndefinedMetricWarning: Precision and F-score are ill-defined and being set to 0.0 in labels with no predicted samples. Use `zero_division` parameter to control this behavior.\n",
      "  _warn_prf(average, modifier, msg_start, len(result))\n",
      "C:\\Users\\danko\\anaconda3\\lib\\site-packages\\sklearn\\metrics\\_classification.py:1248: UndefinedMetricWarning: Precision and F-score are ill-defined and being set to 0.0 in labels with no predicted samples. Use `zero_division` parameter to control this behavior.\n",
      "  _warn_prf(average, modifier, msg_start, len(result))\n"
     ]
    },
    {
     "name": "stdout",
     "output_type": "stream",
     "text": [
      "              precision    recall  f1-score   support\n",
      "\n",
      "       green       0.72      1.00      0.83   1097315\n",
      "         red       0.48      0.01      0.01    287511\n",
      "      yellow       0.00      0.00      0.00    146841\n",
      "\n",
      "    accuracy                           0.72   1531667\n",
      "   macro avg       0.40      0.33      0.28   1531667\n",
      "weighted avg       0.60      0.72      0.60   1531667\n",
      "\n"
     ]
    },
    {
     "name": "stderr",
     "output_type": "stream",
     "text": [
      "C:\\Users\\danko\\anaconda3\\lib\\site-packages\\sklearn\\metrics\\_classification.py:1248: UndefinedMetricWarning: Precision and F-score are ill-defined and being set to 0.0 in labels with no predicted samples. Use `zero_division` parameter to control this behavior.\n",
      "  _warn_prf(average, modifier, msg_start, len(result))\n"
     ]
    }
   ],
   "source": [
    "print(metrics.classification_report(y_test, predictions))"
   ]
  },
  {
   "cell_type": "markdown",
   "id": "8b1c4872",
   "metadata": {},
   "source": [
    "Kreiramo novi model bez atributa durationInSeconds"
   ]
  },
  {
   "cell_type": "code",
   "execution_count": 8,
   "id": "96174d25",
   "metadata": {},
   "outputs": [],
   "source": [
    "X1 = naive_bayes_db.values[:, [1,2,3,4,5,6,7,9,10]]\n",
    "Y1 = naive_bayes_db.values[:, 0]"
   ]
  },
  {
   "cell_type": "code",
   "execution_count": 9,
   "id": "873ab97c",
   "metadata": {},
   "outputs": [],
   "source": [
    "X1_train, X1_test, y1_train, y1_test = train_test_split(X1, Y1, random_state = 1)"
   ]
  },
  {
   "cell_type": "code",
   "execution_count": 10,
   "id": "93280efc",
   "metadata": {},
   "outputs": [],
   "source": [
    "clf1 = GaussianNB().fit(X1_train, y1_train)"
   ]
  },
  {
   "cell_type": "code",
   "execution_count": 11,
   "id": "f818f71b",
   "metadata": {},
   "outputs": [],
   "source": [
    "predictions1 = clf1.predict(X1_test)"
   ]
  },
  {
   "cell_type": "code",
   "execution_count": 12,
   "id": "c9743003",
   "metadata": {},
   "outputs": [
    {
     "name": "stderr",
     "output_type": "stream",
     "text": [
      "C:\\Users\\danko\\anaconda3\\lib\\site-packages\\sklearn\\metrics\\_classification.py:1248: UndefinedMetricWarning: Precision and F-score are ill-defined and being set to 0.0 in labels with no predicted samples. Use `zero_division` parameter to control this behavior.\n",
      "  _warn_prf(average, modifier, msg_start, len(result))\n",
      "C:\\Users\\danko\\anaconda3\\lib\\site-packages\\sklearn\\metrics\\_classification.py:1248: UndefinedMetricWarning: Precision and F-score are ill-defined and being set to 0.0 in labels with no predicted samples. Use `zero_division` parameter to control this behavior.\n",
      "  _warn_prf(average, modifier, msg_start, len(result))\n"
     ]
    },
    {
     "name": "stdout",
     "output_type": "stream",
     "text": [
      "              precision    recall  f1-score   support\n",
      "\n",
      "       green       0.72      1.00      0.83   1097315\n",
      "         red       0.43      0.01      0.03    287511\n",
      "      yellow       0.00      0.00      0.00    146841\n",
      "\n",
      "    accuracy                           0.72   1531667\n",
      "   macro avg       0.38      0.34      0.29   1531667\n",
      "weighted avg       0.60      0.72      0.60   1531667\n",
      "\n"
     ]
    },
    {
     "name": "stderr",
     "output_type": "stream",
     "text": [
      "C:\\Users\\danko\\anaconda3\\lib\\site-packages\\sklearn\\metrics\\_classification.py:1248: UndefinedMetricWarning: Precision and F-score are ill-defined and being set to 0.0 in labels with no predicted samples. Use `zero_division` parameter to control this behavior.\n",
      "  _warn_prf(average, modifier, msg_start, len(result))\n"
     ]
    }
   ],
   "source": [
    "print(metrics.classification_report(y1_test, predictions1))"
   ]
  },
  {
   "cell_type": "markdown",
   "id": "21f230d1",
   "metadata": {},
   "source": [
    "Radimo down-sampling i kreiramo novi model sa balansiranim podacima"
   ]
  },
  {
   "cell_type": "code",
   "execution_count": 14,
   "id": "dc6e5b9c",
   "metadata": {},
   "outputs": [],
   "source": [
    "balanced_df = naive_bayes_db.groupby('landing_safety')\n",
    "balanced_df = balanced_df.apply(lambda x: x.sample(balanced_df.size().min()).reset_index(drop=True))"
   ]
  },
  {
   "cell_type": "code",
   "execution_count": 17,
   "id": "0c0d7a69",
   "metadata": {},
   "outputs": [],
   "source": [
    "X2 = balanced_df.values[:, [1,2,3,4,5,6,7,9,10]]\n",
    "Y2 = balanced_df.values[:, 0]"
   ]
  },
  {
   "cell_type": "code",
   "execution_count": 18,
   "id": "7aafbcef",
   "metadata": {},
   "outputs": [],
   "source": [
    "X2_train, X2_test, y2_train, y2_test = train_test_split(X2, Y2, random_state = 1)"
   ]
  },
  {
   "cell_type": "code",
   "execution_count": 19,
   "id": "7579592e",
   "metadata": {},
   "outputs": [],
   "source": [
    "clf2 = GaussianNB().fit(X2_train, y2_train)"
   ]
  },
  {
   "cell_type": "code",
   "execution_count": 20,
   "id": "4cd817e0",
   "metadata": {},
   "outputs": [],
   "source": [
    "predictions2 = clf2.predict(X2_test)"
   ]
  },
  {
   "cell_type": "code",
   "execution_count": 21,
   "id": "692f7620",
   "metadata": {},
   "outputs": [
    {
     "name": "stdout",
     "output_type": "stream",
     "text": [
      "              precision    recall  f1-score   support\n",
      "\n",
      "       green       0.42      0.33      0.37    147398\n",
      "         red       0.48      0.63      0.54    147231\n",
      "      yellow       0.47      0.42      0.44    147392\n",
      "\n",
      "    accuracy                           0.46    442021\n",
      "   macro avg       0.45      0.46      0.45    442021\n",
      "weighted avg       0.45      0.46      0.45    442021\n",
      "\n"
     ]
    }
   ],
   "source": [
    "print(metrics.classification_report(y2_test, predictions2))"
   ]
  }
 ],
 "metadata": {
  "kernelspec": {
   "display_name": "Python 3 (ipykernel)",
   "language": "python",
   "name": "python3"
  },
  "language_info": {
   "codemirror_mode": {
    "name": "ipython",
    "version": 3
   },
   "file_extension": ".py",
   "mimetype": "text/x-python",
   "name": "python",
   "nbconvert_exporter": "python",
   "pygments_lexer": "ipython3",
   "version": "3.9.7"
  }
 },
 "nbformat": 4,
 "nbformat_minor": 5
}
